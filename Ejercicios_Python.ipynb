{
  "nbformat": 4,
  "nbformat_minor": 0,
  "metadata": {
    "colab": {
      "provenance": [],
      "authorship_tag": "ABX9TyOCOZ5POl8tWdZ0f8VvrRy+",
      "include_colab_link": true
    },
    "kernelspec": {
      "name": "python3",
      "display_name": "Python 3"
    },
    "language_info": {
      "name": "python"
    }
  },
  "cells": [
    {
      "cell_type": "markdown",
      "metadata": {
        "id": "view-in-github",
        "colab_type": "text"
      },
      "source": [
        "<a href=\"https://colab.research.google.com/github/HueteDevs/Ejercicios-de-Python/blob/main/Ejercicios_Python.ipynb\" target=\"_parent\"><img src=\"https://colab.research.google.com/assets/colab-badge.svg\" alt=\"Open In Colab\"/></a>"
      ]
    },
    {
      "cell_type": "markdown",
      "source": [
        "**Ejercicio 1**\n",
        "Escribir una secuencia de instrucciones de Python que permita declarar 3 variables a, b y c asignándoles respectivamente los valores 1, 'Francia', 36.2 y luego mostrar los valores de estas variables en la consola"
      ],
      "metadata": {
        "id": "K5VJhOI8olmR"
      }
    },
    {
      "cell_type": "code",
      "source": [
        "a = 1\n",
        "b = \"Francia\"\n",
        "c = 36.2\n",
        "\n",
        "print(a)\n",
        "print(b)\n",
        "print(c)"
      ],
      "metadata": {
        "id": "jYCJAPtbp7lz",
        "colab": {
          "base_uri": "https://localhost:8080/"
        },
        "outputId": "d1b3ce10-c441-4b61-cf04-951d84d49817"
      },
      "execution_count": null,
      "outputs": [
        {
          "output_type": "stream",
          "name": "stdout",
          "text": [
            "1\n",
            "Francia\n",
            "36.2\n"
          ]
        }
      ]
    },
    {
      "cell_type": "markdown",
      "source": [
        "**Ejercicio 2**\n",
        "Escribir una secuencia de instrucciones de Python que permita declarar una variable ch inicializándola con el valor 'hola' y luego modificar esa misma variable para que contenga 'está bien'. El programa debe mostrar el contenido de la variable en la consola despuñes de la modificación.\n"
      ],
      "metadata": {
        "id": "l5VHGXk3p2k6"
      }
    },
    {
      "cell_type": "code",
      "source": [
        "ch = \"hola\"\n",
        "ch =\"está bien\"\n",
        "\n",
        "print(ch)"
      ],
      "metadata": {
        "colab": {
          "base_uri": "https://localhost:8080/"
        },
        "id": "xFyqOrhlqtx1",
        "outputId": "d98879ae-6969-4165-8bff-56c5f1e9b74f",
        "collapsed": true
      },
      "execution_count": null,
      "outputs": [
        {
          "output_type": "stream",
          "name": "stdout",
          "text": [
            "está bien\n"
          ]
        }
      ]
    },
    {
      "cell_type": "markdown",
      "source": [
        "**Ejercicio 3**\n",
        "Escriba una serie de instrucciones de Pythob que permita declarar 2 variables x e y asignándoles respectivamente los valores 3 y 8.5, luego convertir el tipo de estas variables a una cadena de caracteres. AL final, el programa debe mostrar el tipo de estas variables después de la conversión."
      ],
      "metadata": {
        "id": "w2jeo2Ojq4ll"
      }
    },
    {
      "cell_type": "code",
      "source": [
        "x = 3\n",
        "y = 8.5\n",
        "\n",
        "x = str(x)\n",
        "y = str(y)\n",
        "\n",
        "print(type(x))\n",
        "print(type(y))"
      ],
      "metadata": {
        "colab": {
          "base_uri": "https://localhost:8080/"
        },
        "id": "A5siRSpSrn6z",
        "outputId": "f10cc8ff-f4bd-4bd7-ed4a-3c9a630896c7",
        "collapsed": true
      },
      "execution_count": null,
      "outputs": [
        {
          "output_type": "stream",
          "name": "stdout",
          "text": [
            "<class 'str'>\n",
            "<class 'str'>\n"
          ]
        }
      ]
    },
    {
      "cell_type": "markdown",
      "source": [
        "**Ejercicio 4**\n",
        "Escribe un programa que pregunte al usuario su peso en kg y lo almacene en una variable. EL programa debe mostrar al final el peso introducido por el usuario."
      ],
      "metadata": {
        "id": "QdEexecEsa9W"
      }
    },
    {
      "cell_type": "code",
      "source": [
        "peso = input(\"Dime tu peso en kg:\")\n",
        "print(f\"Tu peso son {peso} Kilos.\")"
      ],
      "metadata": {
        "colab": {
          "base_uri": "https://localhost:8080/"
        },
        "id": "WCooNQtbspGX",
        "outputId": "0c74e4ae-f5d8-4f6b-a45d-35f9f9bb9557",
        "collapsed": true
      },
      "execution_count": null,
      "outputs": [
        {
          "output_type": "stream",
          "name": "stdout",
          "text": [
            "Dime tu peso en kg:75\n",
            "Tu peso son 75 Kilos.\n"
          ]
        }
      ]
    },
    {
      "cell_type": "markdown",
      "source": [
        "**Ejercicio 5**\n",
        "Crear una serie de instrucciones en Python que permitan declarar una variable \"var\" y asignarle el valor \"Hola\". Luego, el programa debe verificar si la variable var es un entero o una cadena de caracteres. Si es un entero, el programa debe imprimir en la consola \"Entero\", y si es una cadena de caracteres, el programa imprimirá \"Cadena de caracteres en la consola\"."
      ],
      "metadata": {
        "id": "cr-j9cFOs_Dm"
      }
    },
    {
      "cell_type": "code",
      "source": [
        "var = \"Hola\"\n",
        "\n",
        "if type(var) == int:\n",
        "  print(\"Entero\")\n",
        "else:\n",
        "  print(\"Es una cadena\")"
      ],
      "metadata": {
        "colab": {
          "base_uri": "https://localhost:8080/"
        },
        "id": "ND7TZTULw7SB",
        "outputId": "608a54bc-ad6f-4d38-910c-e85748f63840",
        "collapsed": true
      },
      "execution_count": null,
      "outputs": [
        {
          "output_type": "stream",
          "name": "stdout",
          "text": [
            "Es una cadena\n"
          ]
        }
      ]
    },
    {
      "cell_type": "markdown",
      "source": [
        "**Ejercicio 6**\n",
        "Escribir un programa que declare la variable \"d\" y le asigne el valor 5, y verifique si esta variable es mayor o menor que 0. Si la variable es mayor que 0, el programa debe imprimir \"positiva\", de lo contrario debe imprimir \"Negativa\"."
      ],
      "metadata": {
        "id": "l4xsfOGvu9aQ"
      }
    },
    {
      "cell_type": "code",
      "source": [
        "d = 5\n",
        "\n",
        "if d > 0:\n",
        "  print(\"Positiva\")\n",
        "else:\n",
        "  print(\"Negativa\")"
      ],
      "metadata": {
        "colab": {
          "base_uri": "https://localhost:8080/"
        },
        "id": "NV-ZGuRrvY2_",
        "outputId": "4583851a-9ce0-4624-aa49-2bfe6b25871d",
        "collapsed": true
      },
      "execution_count": null,
      "outputs": [
        {
          "output_type": "stream",
          "name": "stdout",
          "text": [
            "Positiva\n"
          ]
        }
      ]
    },
    {
      "cell_type": "markdown",
      "source": [
        "**Ejercicio 7**\n",
        "Escribir un programa que solicite al usuario su edad y la almecene en una variable. El programa debe verificar si el usuario tiene una edad mayor o menor a 18 años. Si la edad del usuario es mayor o igual a 18, entonces el programa debe imprimir \"El usuario es mayor de edad\", de lo contrario debe imprimir \"El usuario es menor de edad"
      ],
      "metadata": {
        "id": "DdE9mKMYxsCj"
      }
    },
    {
      "cell_type": "code",
      "source": [
        "edad= int(input(\"dime tu edad: \")) # En Python debemos cambiar la variable cuando\n",
        "                                  # usamos el input para decirle que tipo de\n",
        "                                  # dato vamos a introducir.\n",
        "if edad >= 18:\n",
        "  print(\"El usuario es mayor de edad\")\n",
        "else:\n",
        "  print(\"El usuario es menor de edad\")"
      ],
      "metadata": {
        "colab": {
          "base_uri": "https://localhost:8080/"
        },
        "id": "i3ermeHAySDt",
        "outputId": "6b8222df-0fcf-4ee1-d1e8-6c48b61ee469",
        "collapsed": true
      },
      "execution_count": null,
      "outputs": [
        {
          "output_type": "stream",
          "name": "stdout",
          "text": [
            "dime tu edad: 18\n",
            "El usuario es mayor de edad\n"
          ]
        }
      ]
    },
    {
      "cell_type": "markdown",
      "source": [
        "**Ejercicio 8 (GENERACIÓN DE NÚMEROS MEDIANTE BUCLES)**\n",
        "Escribir un programa en Python que permita imprimir en la consola los números del uno al 20\n",
        "**NOTA**: es necesario crear dos versiones, una con el bucle for y otra con el bucle while."
      ],
      "metadata": {
        "id": "eRHYVddE24o4"
      }
    },
    {
      "cell_type": "code",
      "source": [
        "# Cuenta del 1 al 20 con bucle for\n",
        "\n",
        "for i in range(20): # Para hacer la cuenta hay que usar range()\n",
        "  print(i)\n",
        "\n",
        "# Cuenta del 1 al 20 con bucle for\n",
        "\n",
        "i = 0\n",
        "while i < 20:\n",
        "  i = i + 1\n",
        "  print(i)\n"
      ],
      "metadata": {
        "colab": {
          "base_uri": "https://localhost:8080/"
        },
        "id": "Rzp46jPS3To9",
        "outputId": "1b864af3-a6d4-45ca-cb2d-1dadbc514262",
        "collapsed": true
      },
      "execution_count": null,
      "outputs": [
        {
          "output_type": "stream",
          "name": "stdout",
          "text": [
            "1\n",
            "2\n",
            "3\n",
            "4\n",
            "5\n",
            "6\n",
            "7\n",
            "8\n",
            "9\n",
            "10\n",
            "11\n",
            "12\n",
            "13\n",
            "14\n",
            "15\n",
            "16\n",
            "17\n",
            "18\n",
            "19\n",
            "20\n",
            "1\n",
            "2\n",
            "3\n",
            "4\n",
            "5\n",
            "6\n",
            "7\n",
            "8\n",
            "9\n",
            "10\n",
            "11\n",
            "12\n",
            "13\n",
            "14\n",
            "15\n",
            "16\n",
            "17\n",
            "18\n",
            "19\n",
            "20\n"
          ]
        }
      ]
    },
    {
      "cell_type": "markdown",
      "source": [
        "**Ejercicio 9 (NÚMEROS IMPARES INCLUIDOS EN UN INTERVALO)**\n",
        "Escribir un programa en Python que permita imprimir solo los números impares entre 10 y 20.\n",
        "**Nota:** es necesario crear dos versiones, una con el bucle for y otra con el bucle while.\n"
      ],
      "metadata": {
        "id": "BcFjuBYQ5kus"
      }
    },
    {
      "cell_type": "code",
      "source": [
        "# Intervalo números impares en un intervalo entre 10 y 20 con bucle for\n",
        "\n",
        "for i in range(11,21,2):\n",
        "  print(i)\n",
        "\n",
        "# Intervalo números impares en un intervalo entre 10 y 20 con bucle for\n",
        "\n",
        "i = 11\n",
        "\n",
        "while i < 19:\n",
        "  print(i)\n",
        "  i = i + 2\n",
        "\n"
      ],
      "metadata": {
        "colab": {
          "base_uri": "https://localhost:8080/"
        },
        "id": "NI-8Wxky6Jly",
        "outputId": "f97139bb-31c9-4d2e-ff15-7466d53dd8a2",
        "collapsed": true
      },
      "execution_count": null,
      "outputs": [
        {
          "output_type": "stream",
          "name": "stdout",
          "text": [
            "11\n",
            "13\n",
            "15\n",
            "17\n",
            "19\n",
            "11\n",
            "13\n",
            "15\n",
            "17\n"
          ]
        }
      ]
    },
    {
      "cell_type": "markdown",
      "source": [
        "**Ejercicio 10**\n",
        "\n",
        "Crea un programa que genere un patrón triangular de números donde cada fila muestre los números desde 1 hasta el número de la fila. El programa debe solicitar al usuario un número entero positivo que representará la altura del triángulo (número de filas).\n",
        "\n",
        "Por ejemplo, si el usuario introduce 5, el resultado debe ser:\n",
        "\n",
        "1\n",
        "\n",
        "1 2\n",
        "\n",
        "1 2 3\n",
        "\n",
        "1 2 3 4\n",
        "\n",
        "1 2 3 4 5\n",
        "\n",
        "Utiliza un bucle for anidado junto con la función range() para generar este patrón. Asegúrate de que los números en cada fila estén separados por un espacio.\n"
      ],
      "metadata": {
        "id": "VGKwXJ39AJtZ"
      }
    },
    {
      "cell_type": "code",
      "source": [
        "altura = int(input(\"Introduce la altura:\"))\n",
        "\n",
        "for i in range(1,altura + 1):\n",
        "  print()\n",
        "  for j in range(1,i + 1):\n",
        "    print(j, end=\" \")\n",
        "\n",
        "\n",
        "\n",
        "\n",
        "\n"
      ],
      "metadata": {
        "colab": {
          "base_uri": "https://localhost:8080/"
        },
        "id": "BKsdcqANAmdZ",
        "outputId": "ad26890b-1790-4295-97a2-0127b8b94280"
      },
      "execution_count": null,
      "outputs": [
        {
          "output_type": "stream",
          "name": "stdout",
          "text": [
            "Introduce la altura:5\n",
            "\n",
            "1 \n",
            "1 2 \n",
            "1 2 3 \n",
            "1 2 3 4 \n",
            "1 2 3 4 5 "
          ]
        }
      ]
    },
    {
      "cell_type": "markdown",
      "source": [
        "**Ejercicio 11**\n",
        "\n",
        "Contador ascendente.\n",
        "\n",
        "Muestra los números del 1 al 50 con un for."
      ],
      "metadata": {
        "id": "in_uZh-qW92X"
      }
    },
    {
      "cell_type": "code",
      "source": [
        "\n",
        "for i in range(1,51):\n",
        "  print(i)"
      ],
      "metadata": {
        "colab": {
          "base_uri": "https://localhost:8080/"
        },
        "id": "96qFMRSBX5QL",
        "outputId": "1f07f83d-8787-4a08-e7a3-5afb4f3d93a9",
        "collapsed": true
      },
      "execution_count": null,
      "outputs": [
        {
          "output_type": "stream",
          "name": "stdout",
          "text": [
            "1\n",
            "2\n",
            "3\n",
            "4\n",
            "5\n",
            "6\n",
            "7\n",
            "8\n",
            "9\n",
            "10\n",
            "11\n",
            "12\n",
            "13\n",
            "14\n",
            "15\n",
            "16\n",
            "17\n",
            "18\n",
            "19\n",
            "20\n",
            "21\n",
            "22\n",
            "23\n",
            "24\n",
            "25\n",
            "26\n",
            "27\n",
            "28\n",
            "29\n",
            "30\n",
            "31\n",
            "32\n",
            "33\n",
            "34\n",
            "35\n",
            "36\n",
            "37\n",
            "38\n",
            "39\n",
            "40\n",
            "41\n",
            "42\n",
            "43\n",
            "44\n",
            "45\n",
            "46\n",
            "47\n",
            "48\n",
            "49\n",
            "50\n"
          ]
        }
      ]
    },
    {
      "cell_type": "markdown",
      "source": [
        "**Ejercicio 12**\n",
        "\n",
        "Contador descendente:\n",
        "\n",
        "Muestra los números del 20 al 1 con un while."
      ],
      "metadata": {
        "id": "F60ew_EEYU85"
      }
    },
    {
      "cell_type": "code",
      "source": [
        "numero = 21\n",
        "\n",
        "while numero > 1:\n",
        "  numero = numero - 1\n",
        "  print(numero)"
      ],
      "metadata": {
        "colab": {
          "base_uri": "https://localhost:8080/"
        },
        "id": "Sbb3jOv3YihR",
        "outputId": "579ba23d-1826-401b-b179-ef719703f354",
        "collapsed": true
      },
      "execution_count": null,
      "outputs": [
        {
          "output_type": "stream",
          "name": "stdout",
          "text": [
            "20\n",
            "19\n",
            "18\n",
            "17\n",
            "16\n",
            "15\n",
            "14\n",
            "13\n",
            "12\n",
            "11\n",
            "10\n",
            "9\n",
            "8\n",
            "7\n",
            "6\n",
            "5\n",
            "4\n",
            "3\n",
            "2\n",
            "1\n"
          ]
        }
      ]
    },
    {
      "cell_type": "markdown",
      "source": [
        "**Ejercicio 13**\n",
        "\n",
        "Números pares:\n",
        "\n",
        "Imprime los números pares del 2 al 40 (usa range() con salto).\n"
      ],
      "metadata": {
        "id": "cAmL4k35ZC42"
      }
    },
    {
      "cell_type": "code",
      "source": [
        "\n",
        "for i in range(2,42,2):\n",
        "  print(i)"
      ],
      "metadata": {
        "colab": {
          "base_uri": "https://localhost:8080/"
        },
        "id": "byQJRkksZXLJ",
        "outputId": "836da993-7118-4d12-90ee-152fd276d13b",
        "collapsed": true
      },
      "execution_count": null,
      "outputs": [
        {
          "output_type": "stream",
          "name": "stdout",
          "text": [
            "2\n",
            "4\n",
            "6\n",
            "8\n",
            "10\n",
            "12\n",
            "14\n",
            "16\n",
            "18\n",
            "20\n",
            "22\n",
            "24\n",
            "26\n",
            "28\n",
            "30\n",
            "32\n",
            "34\n",
            "36\n",
            "38\n",
            "40\n"
          ]
        }
      ]
    },
    {
      "cell_type": "markdown",
      "source": [
        "**Ejercicio 14**\n",
        "\n",
        "Suma acumulada:\n",
        "\n",
        "Pide 5 números al usuario y muestra su suma total al final."
      ],
      "metadata": {
        "id": "W-L1ELqkZpu6"
      }
    },
    {
      "cell_type": "code",
      "source": [
        "resultado = 0\n",
        "for i in range(5):\n",
        "  suma = int(input(\"Dime un número para que lo sume:\"))\n",
        "  resultado = resultado + suma\n",
        "\n",
        "\n",
        "print(f\"El resultado de la suma es: {resultado}\")\n",
        "\n",
        "\n",
        "\n"
      ],
      "metadata": {
        "colab": {
          "base_uri": "https://localhost:8080/"
        },
        "id": "F6U66OyaZ8Yq",
        "outputId": "ec49be2e-afb5-4d95-ee36-8da47f10f007",
        "collapsed": true
      },
      "execution_count": null,
      "outputs": [
        {
          "output_type": "stream",
          "name": "stdout",
          "text": [
            "Dime un número para que lo sume:5\n",
            "Dime un número para que lo sume:5\n",
            "Dime un número para que lo sume:5\n",
            "Dime un número para que lo sume:5\n",
            "Dime un número para que lo sume:5\n",
            "El resultado de la suma es: 25\n"
          ]
        }
      ]
    },
    {
      "cell_type": "markdown",
      "source": [
        "**Ejercicio 15**\n",
        "\n",
        "Rectángulo de asteriscos:\n",
        "\n",
        "Pide al usuario el ancho y el alto, y dibuja un rectángulo con * usando bucles anidados.\n",
        "\n"
      ],
      "metadata": {
        "id": "tuqsfLq2Em_r"
      }
    },
    {
      "cell_type": "code",
      "source": [
        "ancho = int(input(\"Escribe el ancho:\"))\n",
        "alto = int(input(\"Escribe el alto:\"))\n",
        "\n",
        "for i in range(alto):\n",
        "  for j in range(ancho):\n",
        "    print(f\"*\",end=\"\")\n",
        "  print()\n"
      ],
      "metadata": {
        "colab": {
          "base_uri": "https://localhost:8080/"
        },
        "id": "BRzr4WJuE-dM",
        "outputId": "9aa90103-98c6-4666-c6af-e4eb7449a011"
      },
      "execution_count": null,
      "outputs": [
        {
          "output_type": "stream",
          "name": "stdout",
          "text": [
            "Escribe el ancho:5\n",
            "Escribe el alto:5\n",
            "*****\n",
            "*****\n",
            "*****\n",
            "*****\n",
            "*****\n"
          ]
        }
      ]
    },
    {
      "cell_type": "markdown",
      "source": [
        "**Ejercicio 16**\n",
        "\n",
        "Triángulo invertido;\n",
        "\n",
        "Igual que el patrón triangular, pero de arriba hacia abajo"
      ],
      "metadata": {
        "id": "kwF4CMGiJ7ky"
      }
    },
    {
      "cell_type": "code",
      "source": [
        "altura = int(input(\"Introduce la altura:\"))\n",
        "\n",
        "for i in range(altura,0,-1):\n",
        "  for j in range (1,i, +1):\n",
        "    print(j, end=\"\")\n",
        "\n",
        "  print() # En este caso el print para el salto de línea se tiene que poner\n",
        "          # fuera del bucle.\n",
        "\n",
        "\n",
        "\n",
        "\n",
        "\n"
      ],
      "metadata": {
        "colab": {
          "base_uri": "https://localhost:8080/"
        },
        "id": "lVqjuEKtKF16",
        "outputId": "8f9fa0fb-a959-409e-e03b-501b304b9295"
      },
      "execution_count": null,
      "outputs": [
        {
          "output_type": "stream",
          "name": "stdout",
          "text": [
            "Introduce la altura:5\n",
            "1234\n",
            "123\n",
            "12\n",
            "1\n",
            "\n"
          ]
        }
      ]
    },
    {
      "cell_type": "markdown",
      "source": [
        "**Ejercicio 17**\n",
        "\n",
        "rea una función llamada calcular_area_circulo que reciba como parámetro el radio de un círculo y devuelva su área. Recuerda que el área de un círculo se calcula como π multiplicado por el radio al cuadrado (π * r²). Utiliza el valor 3.14159 para π.\n",
        "\n",
        "La función debe:\n",
        "\n",
        "1. Aceptar un parámetro numérico (el radio)\n",
        "2. Calcular el área usando la fórmula correcta\n",
        "3. Devolver el resultado como un número decimal"
      ],
      "metadata": {
        "id": "S1WdjbBoAKT5"
      }
    },
    {
      "cell_type": "code",
      "source": [
        "print(\"=== PROGRAMA: CALCULADORA DE ÁREA DE CÍRCULO ===\\n\")\n",
        "\n",
        "# Definir la función calcular_area_circulo\n",
        "def calcular_area_circulo(radio):\n",
        "    # 1. Definir el valor de pi\n",
        "    # Escribe aquí tu código\n",
        "    PI = 3.14159\n",
        "\n",
        "    # 2. Calcular el área usando la fórmula: π * radio²\n",
        "    # Escribe aquí tu código\n",
        "    area = PI*(radio**2)\n",
        "\n",
        "\n",
        "    # 3. Devolver el resultado\n",
        "    # Escribe aquí tu código\n",
        "    return area\n",
        "\n",
        "\n",
        "print(\"=== PRUEBAS DE LA FUNCIÓN ===\")\n",
        "\n",
        "# Prueba 1: radio = 5\n",
        "radio1 = 5\n",
        "# Llamar a la función y guardar el resultado\n",
        "# Escribe aquí tu código\n",
        "calcular_area_circulo(radio1)\n",
        "area1=calcular_area_circulo(radio1)\n",
        "print(f\"Radio: {radio1} -> Área: {area1}\")\n",
        "\n",
        "# Prueba 2: radio = 3\n",
        "radio2 = 3\n",
        "# Llamar a la función y guardar el resultado\n",
        "# Escribe aquí tu código\n",
        "calcular_area_circulo(radio2)\n",
        "area2=calcular_area_circulo(radio2)\n",
        "print(f\"Radio: {radio2} -> Área: {area2}\")\n",
        "\n",
        "# Prueba 3: radio = 10.5\n",
        "radio3 = 10.5\n",
        "# Llamar a la función y guardar el resultado\n",
        "# Escribe aquí tu código\n",
        "calcular_area_circulo(radio3)\n",
        "area3 = calcular_area_circulo(radio3)\n",
        "print(f\"Radio: {radio3} -> Área: {area3}\")\n",
        "\n",
        "print(\"\\n=== MODO INTERACTIVO ===\")\n",
        "# Solicitar al usuario un radio y calcular su área\n",
        "# Escribe aquí tu código para pedir el radio al usuario\n",
        "radio_usuario = float(input(\"Escribe el radio del círculo: \"))\n",
        "\n",
        "# Convertir la entrada a número decimal\n",
        "# Escribe aquí tu código\n",
        "\n",
        "\n",
        "# Llamar a la función con el radio del usuario\n",
        "# Escribe aquí tu código\n",
        "calcular_area_circulo(radio_usuario)\n",
        "area_usuario = calcular_area_circulo(radio_usuario)\n",
        "print(f\"El área de un círculo con radio {radio_usuario} es: {area_usuario}\")"
      ],
      "metadata": {
        "colab": {
          "base_uri": "https://localhost:8080/"
        },
        "id": "iTCqu9KiAJ8O",
        "outputId": "534294e0-ef1c-4356-d6e7-aa30fd82667a"
      },
      "execution_count": 10,
      "outputs": [
        {
          "output_type": "stream",
          "name": "stdout",
          "text": [
            "=== PROGRAMA: CALCULADORA DE ÁREA DE CÍRCULO ===\n",
            "\n",
            "=== PRUEBAS DE LA FUNCIÓN ===\n",
            "Radio: 5 -> Área: 78.5\n",
            "Radio: 3 -> Área: 28.26\n",
            "Radio: 10.5 -> Área: 346.185\n",
            "\n",
            "=== MODO INTERACTIVO ===\n",
            "Escribe el radio del círculo: 5\n",
            "El área de un círculo con radio 5.0 es: 78.5\n"
          ]
        }
      ]
    }
  ]
}